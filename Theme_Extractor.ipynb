{
 "cells": [
  {
   "cell_type": "code",
   "execution_count": 1,
   "metadata": {
    "collapsed": true
   },
   "outputs": [],
   "source": [
    "import spacy\n",
    "nlp = spacy.load('en')"
   ]
  },
  {
   "cell_type": "code",
   "execution_count": 2,
   "metadata": {},
   "outputs": [
    {
     "name": "stdout",
     "output_type": "stream",
     "text": [
      "enter a sentence Naresh and Satish were talking about embarkment.\n",
      "the subjects are \n",
      "[Naresh, Satish]\n",
      "the objects are\n",
      "[embarkment]\n"
     ]
    }
   ],
   "source": [
    "doc = nlp(input(\"enter a sentence \"))\n",
    "\n",
    "from spacy.symbols import nsubj, pobj, conj, nsubjpass\n",
    "\n",
    "dependency_dict = {}\n",
    "\n",
    "# for np in doc.noun_chunks:\n",
    "#     print(np)\n",
    "    \n",
    "for each in doc:\n",
    "    if each.dep == nsubj or each.dep == pobj or each.dep == conj or each.dep == nsubjpass:\n",
    "        dependency_dict[each] = each.dep_\n",
    " \n",
    "# print(dependency_dict)\n",
    "# print(len(dependency_dict))\n",
    "\n",
    "value_list = dependency_dict.values()\n",
    "new_value_list = list(value_list)\n",
    "# print(new_value_list)\n",
    "\n",
    "first_dep = new_value_list[0]\n",
    "# print(first_key)\n",
    "\n",
    "key_list = dependency_dict.keys()\n",
    "new_key_list = list(key_list)\n",
    "# print(new_key_list)\n",
    "\n",
    "subjects = []\n",
    "objects = []\n",
    "count = 0\n",
    "d_l = len(dependency_dict)\n",
    "\n",
    "if first_dep == 'nsubj' or first_dep == 'nsubjpass':\n",
    "\n",
    "    for each in dependency_dict.keys():\n",
    "        if dependency_dict[each] != 'pobj':\n",
    "            subjects.append(each)\n",
    "            count += 1\n",
    "        else:\n",
    "            break\n",
    "    \n",
    "    for i in range(count, d_l):\n",
    "        objects.append(new_key_list[i])\n",
    "        \n",
    "if first_dep == 'pobj':\n",
    "    \n",
    "    for each in dependency_dict.keys():\n",
    "        if dependency_dict[each] != 'nsubj' or dependency_dict[each] != 'nsubjpass':\n",
    "            objects.append(each)\n",
    "            count += 1\n",
    "        else:\n",
    "            break\n",
    "    \n",
    "    for i in range(count, d_l):\n",
    "        subjects.append(new_key_list[i])\n",
    "            \n",
    "            \n",
    "print(\"the subjects are \")        \n",
    "print(subjects)\n",
    "print(\"the objects are\")\n",
    "print(objects)   "
   ]
  }
 ],
 "metadata": {
  "kernelspec": {
   "display_name": "Python 3",
   "language": "python",
   "name": "python3"
  },
  "language_info": {
   "codemirror_mode": {
    "name": "ipython",
    "version": 3
   },
   "file_extension": ".py",
   "mimetype": "text/x-python",
   "name": "python",
   "nbconvert_exporter": "python",
   "pygments_lexer": "ipython3",
   "version": "3.6.1"
  }
 },
 "nbformat": 4,
 "nbformat_minor": 2
}
